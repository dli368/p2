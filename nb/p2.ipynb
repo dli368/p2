{
 "cells": [
  {
   "cell_type": "code",
   "execution_count": 1,
   "id": "3ad5ff89-2f90-4e6d-bbf3-5a43ed653fba",
   "metadata": {},
   "outputs": [],
   "source": [
    "import pandas as pd\n",
    "import torch"
   ]
  },
  {
   "cell_type": "code",
   "execution_count": 2,
   "id": "aad28b7a-df3d-41eb-9d7c-7483277673f7",
   "metadata": {},
   "outputs": [],
   "source": [
    "trainDF = pd.read_csv(\"train.csv\")\n",
    "testDF = pd.read_csv(\"test.csv\")\n"
   ]
  },
  {
   "cell_type": "code",
   "execution_count": 3,
   "id": "b042bc8b-28d7-427a-a8af-473265ed1b10",
   "metadata": {},
   "outputs": [],
   "source": [
    "trainData = trainDF.values\n",
    "testData = testDF.values"
   ]
  },
  {
   "cell_type": "code",
   "execution_count": 4,
   "id": "843f45d9-5e35-4400-b1d2-ecd48489ba83",
   "metadata": {},
   "outputs": [],
   "source": [
    "trainXNumpy, trainYNumpy = trainData[:,:-1], trainData[:, -1] #gets all columns but last column (features), gets last column for the results (labels)\n",
    "testXNumpy, testYNumpy = testData[:, :-1], testData[:, -1]"
   ]
  },
  {
   "cell_type": "code",
   "execution_count": 5,
   "id": "6636bf67-111b-4074-ba4a-d15f85773642",
   "metadata": {},
   "outputs": [],
   "source": [
    "trainX = torch.tensor(trainXNumpy, dtype=torch.float64)\n",
    "trainY = torch.tensor(trainYNumpy, dtype=torch.float64)\n",
    "testX = torch.tensor(testXNumpy, dtype=torch.float64)\n",
    "testY = torch.tensor(testYNumpy, dtype=torch.float64)"
   ]
  },
  {
   "cell_type": "code",
   "execution_count": 8,
   "id": "00b7b8ea-0c83-4c00-b891-e73a261a9f84",
   "metadata": {},
   "outputs": [
    {
     "name": "stdout",
     "output_type": "stream",
     "text": [
      "tensor([[ 24.,  51.,  44.,  51.,  60.,  75.,  72.,  61.,  27.,   0.],\n",
      "        [ 22.,  31., 214., 177.,  62.,  46.,  24.,   9.,   0.,   0.],\n",
      "        [ 84., 126., 239., 194., 159., 171., 125.,  74.,  24.,   8.],\n",
      "        [ 65.,  76.,  80., 110.,  82.,  81.,  55.,  49.,  56.,  34.],\n",
      "        [ 99., 107., 339., 287., 139., 147., 110.,  71.,  37.,   0.]],\n",
      "       dtype=torch.float64)\n",
      "tensor([ 3.,  2.,  9.,  7., 12.], dtype=torch.float64)\n"
     ]
    }
   ],
   "source": [
    "print(trainX[:5])\n",
    "print(trainY[:5])"
   ]
  },
  {
   "cell_type": "code",
   "execution_count": 12,
   "id": "8350b432-5baf-4744-a550-46e23cf446ea",
   "metadata": {},
   "outputs": [
    {
     "name": "stdout",
     "output_type": "stream",
     "text": [
      "10440\n"
     ]
    }
   ],
   "source": [
    "#Q1: about how many bytes does trainX consume?\n",
    "print(trainX.numel()) #number of elements in the tensor\n",
    "#from float64 it means there are 64/8 = 8 bytes each element\n",
    "#10440 x 8 = 83520"
   ]
  },
  {
   "cell_type": "code",
   "execution_count": 21,
   "id": "7dd09b0e-dbfe-441d-a1b5-8724b1eeb867",
   "metadata": {},
   "outputs": [
    {
     "name": "stdout",
     "output_type": "stream",
     "text": [
      "0.0\n"
     ]
    }
   ],
   "source": [
    "#Q2: what is the biggest difference we would have any one cell if we used float16 instead of float64?\n",
    "trainX16 = torch.tensor(trainXNumpy, dtype=torch.float16)\n",
    "#print(trainX16[:5])\n",
    "trainX64 = trainX16.to(torch.float64)\n",
    "difference = trainX - trainX64\n",
    "maxFloat = torch.max(difference).item()\n",
    "print(maxFloat) #dont know if the answer is supposed to be 0, but to me it makes sense? "
   ]
  },
  {
   "cell_type": "code",
   "execution_count": 22,
   "id": "7664c1ab-bbd1-4ee1-b0e7-69ca86dc0462",
   "metadata": {},
   "outputs": [
    {
     "name": "stdout",
     "output_type": "stream",
     "text": [
      "False\n"
     ]
    }
   ],
   "source": [
    "#Q3: is a CUDA GPU available on your VM?\n",
    "print(torch.cuda.is_available())"
   ]
  },
  {
   "cell_type": "code",
   "execution_count": 25,
   "id": "bf2de618-569e-4e81-82cd-c87b1f1c1e5d",
   "metadata": {},
   "outputs": [
    {
     "data": {
      "text/plain": [
       "tensor([[0.0040],\n",
       "        [0.0040],\n",
       "        [0.0040],\n",
       "        [0.0040],\n",
       "        [0.0040],\n",
       "        [0.0040],\n",
       "        [0.0300],\n",
       "        [0.0300],\n",
       "        [0.0300],\n",
       "        [0.0300]], dtype=torch.float64)"
      ]
     },
     "execution_count": 25,
     "metadata": {},
     "output_type": "execute_result"
    }
   ],
   "source": [
    "coef = torch.tensor([\n",
    "        [0.0040],\n",
    "        [0.0040],\n",
    "        [0.0040],\n",
    "        [0.0040],\n",
    "        [0.0040],\n",
    "        [0.0040], # POS_50_59_CP\n",
    "        [0.0300], # POS_60_69_CP\n",
    "        [0.0300],\n",
    "        [0.0300],\n",
    "        [0.0300]\n",
    "], dtype=trainX.dtype)\n",
    "coef"
   ]
  },
  {
   "cell_type": "code",
   "execution_count": 30,
   "id": "d0bf24b7-5b31-4a96-8a7d-2c0049d08ee3",
   "metadata": {},
   "outputs": [
    {
     "name": "stdout",
     "output_type": "stream",
     "text": [
      "9.844\n"
     ]
    }
   ],
   "source": [
    "#Q4: what is the predicted number of deaths for the first census tract?\n",
    "print(torch.matmul(testX[0], coef).item())\n",
    "#9.844"
   ]
  },
  {
   "cell_type": "code",
   "execution_count": 31,
   "id": "09b53920-3490-48e7-aa04-f8b3b721296c",
   "metadata": {},
   "outputs": [
    {
     "name": "stdout",
     "output_type": "stream",
     "text": [
      "12.073632183908048\n"
     ]
    }
   ],
   "source": [
    "#Q5: what is the average number of predicted deaths, over the whole testX dataset?\n",
    "predictedDeaths = torch.matmul(testX,coef)\n",
    "print(torch.mean(predictedDeaths).item())\n",
    "#12.073632183908048\n"
   ]
  },
  {
   "cell_type": "code",
   "execution_count": 34,
   "id": "429860f9-e76a-41c8-b131-db2aa4958d9e",
   "metadata": {},
   "outputs": [
    {
     "data": {
      "text/plain": [
       "19.0"
      ]
     },
     "execution_count": 34,
     "metadata": {},
     "output_type": "execute_result"
    }
   ],
   "source": [
    "#Q6: first, what is y when x is a tensor containing 0.0?\n",
    "x = torch.tensor(0.0)\n",
    "y = x**2 -8*x +19\n",
    "float(y)\n",
    "#19.0, but not sure if im doing this one correctly"
   ]
  },
  {
   "cell_type": "code",
   "execution_count": null,
   "id": "e2e2bae4-7ca3-4304-a828-e7d5c891f31d",
   "metadata": {},
   "outputs": [],
   "source": []
  }
 ],
 "metadata": {
  "kernelspec": {
   "display_name": "Python 3 (ipykernel)",
   "language": "python",
   "name": "python3"
  },
  "language_info": {
   "codemirror_mode": {
    "name": "ipython",
    "version": 3
   },
   "file_extension": ".py",
   "mimetype": "text/x-python",
   "name": "python",
   "nbconvert_exporter": "python",
   "pygments_lexer": "ipython3",
   "version": "3.11.6"
  }
 },
 "nbformat": 4,
 "nbformat_minor": 5
}
